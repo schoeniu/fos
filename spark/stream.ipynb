{
 "cells": [
  {
   "cell_type": "code",
   "execution_count": 1,
   "id": "472c2007-1a23-412b-8d6b-4e30aa2b0f2b",
   "metadata": {
    "pycharm": {
     "name": "#%%\n"
    }
   },
   "outputs": [],
   "source": [
    "import os\n",
    "import pyspark\n",
    "from pyspark.sql import SparkSession\n",
    "from pyspark.sql.functions import *\n",
    "from pyspark.sql.types import *"
   ]
  },
  {
   "cell_type": "code",
   "execution_count": 2,
   "id": "3cd9f7c2-ba1f-40eb-b118-e7c130910498",
   "metadata": {
    "pycharm": {
     "name": "#%%\n"
    }
   },
   "outputs": [
    {
     "name": "stdout",
     "output_type": "stream",
     "text": [
      "60\n"
     ]
    }
   ],
   "source": [
    "KAFKA_TOPIC_NAME = \"producedEvents\"\n",
    "KAFKA_TOPIC_NAME_OUT = \"availableDBEntries\"\n",
    "KAFKA_BOOTSTRAP_SERVER = os.environ.get(\"BOOTSTRAP_SERVERS\", \"172.20.0.3:9092\")\n",
    "SPARK_MASTER_URL = \"spark://spark:7077\"\n",
    "TIME_WINDOW = os.environ.get(\"PRODUCER_DATA_SEC_PER_REAL_SEC\", \"1\")+\" seconds\"\n",
    "TIME_TRIGGER = \"1 second\"\n",
    "print(os.environ.get(\"PRODUCER_DATA_SEC_PER_REAL_SEC\", \"\"))"
   ]
  },
  {
   "cell_type": "code",
   "execution_count": 3,
   "id": "3068c8d8-a2c2-4892-bec3-7cefaff1b115",
   "metadata": {
    "pycharm": {
     "name": "#%%\n"
    }
   },
   "outputs": [
    {
     "name": "stdout",
     "output_type": "stream",
     "text": [
      "--packages org.apache.spark:spark-sql-kafka-0-10_2.12:3.3.1,org.postgresql:postgresql:42.5.1  pyspark-shell\n"
     ]
    }
   ],
   "source": [
    "os.environ['PYSPARK_SUBMIT_ARGS'] = '--packages org.apache.spark:spark-sql-kafka-0-10_2.12:3.3.1,org.postgresql:postgresql:42.5.1  pyspark-shell'\n",
    "print(os.environ.get(\"PYSPARK_SUBMIT_ARGS\", \"\"))"
   ]
  },
  {
   "cell_type": "code",
   "execution_count": 4,
   "id": "c5cf7f59-d27e-4823-8a34-3214f58bbb33",
   "metadata": {
    "pycharm": {
     "name": "#%%\n"
    }
   },
   "outputs": [],
   "source": [
    "sparkSession = SparkSession \\\n",
    "        .builder \\\n",
    "        .master(SPARK_MASTER_URL) \\\n",
    "        .appName(\"Spark Streaming\") \\\n",
    "        .getOrCreate()\n",
    "\n",
    "sparkSession.sparkContext.setLogLevel(\"ERROR\")"
   ]
  },
  {
   "cell_type": "code",
   "execution_count": 5,
   "id": "4a56083f-db58-4a0b-a03d-3fe77123a70d",
   "metadata": {
    "pycharm": {
     "name": "#%%\n"
    }
   },
   "outputs": [],
   "source": [
    "inDf = (\n",
    "        sparkSession.readStream.format(\"kafka\")\n",
    "        .option(\"kafka.bootstrap.servers\", KAFKA_BOOTSTRAP_SERVER)\n",
    "        .option(\"subscribe\", KAFKA_TOPIC_NAME)\n",
    "        .option(\"startingOffsets\", \"latest\")\n",
    "        .option(\"includeTimestamp\", True)\n",
    "        .load()\n",
    "    )\n"
   ]
  },
  {
   "cell_type": "code",
   "execution_count": 6,
   "id": "8ac2ed68-6a20-4a72-b09f-18fdeeb71d73",
   "metadata": {
    "pycharm": {
     "name": "#%%\n"
    }
   },
   "outputs": [],
   "source": [
    "\n",
    "valueDf = inDf.selectExpr(\"CAST(value as STRING)\")\n",
    "\n",
    "spl = split(valueDf['value'], ',')\n",
    "baseDf = valueDf.withColumn('eventTime', spl.getItem(0)) \\\n",
    "             .withColumn('eventType', spl.getItem(1)) \\\n",
    "             .withColumn('productID', spl.getItem(2)) \\\n",
    "             .withColumn('categoryID', spl.getItem(3)) \\\n",
    "             .withColumn('brand', spl.getItem(5)) \\\n",
    "             .withColumn('price', spl.getItem(6)) \\\n",
    "             .withColumn('userId', spl.getItem(7)) \\\n",
    "             .drop('value')\n",
    "baseDf = baseDf.withColumn(\"eventTime\", regexp_replace(\"eventTime\", \"\\\"\", \"\")) \\\n",
    "                .withColumn(\"eventTime\", regexp_replace(\"eventTime\", \" UTC\", \".000\")) \\\n",
    "                .withColumn(\"eventTime\", to_timestamp(\"eventTime\"))\n",
    "\n",
    "baseDf = baseDf.withColumn(\"price\", regexp_replace(\"price\", \"\\.\", \"\"))\n",
    "baseDf = baseDf.withColumn(\"price\", baseDf[\"price\"].cast(IntegerType()))\n"
   ]
  },
  {
   "cell_type": "code",
   "execution_count": 7,
   "id": "3ea64b5f-dc8c-4e34-801b-748fe0723db1",
   "metadata": {
    "pycharm": {
     "name": "#%%\n"
    }
   },
   "outputs": [],
   "source": [
    "queryDf = baseDf.withWatermark(\"eventTime\", TIME_WINDOW) \\\n",
    "    .groupBy(window(baseDf.eventTime, TIME_WINDOW,TIME_WINDOW)) \\\n",
    "    .agg(count(baseDf.eventType).alias('nr_of_events'),\n",
    "         count(when(baseDf.eventType == 'view', baseDf.productID)).alias('nr_items_viewed'),\n",
    "         count(when(baseDf.eventType == 'cart', baseDf.productID)).alias('nr_items_put_in_cart'),\n",
    "         count(when(baseDf.eventType == 'purchase', baseDf.productID)).alias('nr_items_sold'),\n",
    "         sum(when(baseDf.eventType == 'purchase', baseDf.price)).alias('value_items_sold_in_cent'),\n",
    "         approx_count_distinct(baseDf.userId).alias('nr_users_active'),\n",
    "         approx_count_distinct(when(baseDf.eventType == 'view', baseDf.categoryID)).alias('nr_categories_viewed'),\n",
    "         approx_count_distinct(when((baseDf.eventType == 'view') & (baseDf.brand != ''), baseDf.brand)).alias('nr_brands_viewed')\n",
    "        )\\\n",
    "     .na.fill(value=0)\n",
    "\n"
   ]
  },
  {
   "cell_type": "code",
   "execution_count": 8,
   "id": "af6b1caa-d288-4f47-90fe-b3d7ad80a04e",
   "metadata": {
    "pycharm": {
     "name": "#%%\n"
    }
   },
   "outputs": [],
   "source": [
    "def postgres_sink(data_frame, batch_id):\n",
    "    dbname = 'postgres'\n",
    "    dbuser = 'postgres'\n",
    "    dbpass = 'postgres'\n",
    "    dbhost = '172.20.0.6'\n",
    "    dbport = '5432'\n",
    "\n",
    "    url = \"jdbc:postgresql://\"+dbhost+\":\"+dbport+\"/\"+dbname\n",
    "    properties = {\n",
    "        \"driver\": \"org.postgresql.Driver\",\n",
    "        \"user\": dbuser,\n",
    "        \"password\": dbpass\n",
    "    }\n",
    "    df = data_frame.withColumn(\"start_event_time\",data_frame['window'].start).withColumn(\"end_event_time\",data_frame['window'].end)\n",
    "    df = df.drop('window')\n",
    "    df = df.select(\"start_event_time\",\"end_event_time\",\"nr_of_events\",\"nr_items_viewed\",\"nr_items_put_in_cart\",\"nr_items_sold\",\"value_items_sold_in_cent\",\"nr_users_active\",\"nr_categories_viewed\",\"nr_brands_viewed\")\n",
    "    df.persist()\n",
    "    df.write.jdbc(url=url, table=\"events\", mode=\"append\", properties=properties)\n",
    "    df.select(to_json(struct(\"start_event_time\", \"end_event_time\",\"nr_of_events\")).alias(\"value\")) \\\n",
    "      .write \\\n",
    "      .format(\"kafka\") \\\n",
    "      .option(\"kafka.bootstrap.servers\", KAFKA_BOOTSTRAP_SERVER) \\\n",
    "      .option(\"topic\", KAFKA_TOPIC_NAME_OUT) \\\n",
    "      .save()\n",
    "    \n",
    "    df.unpersist()\n",
    "\n"
   ]
  },
  {
   "cell_type": "code",
   "execution_count": null,
   "id": "87e94ec2-bb95-46a3-8591-365d40f694f9",
   "metadata": {
    "pycharm": {
     "name": "#%%\n"
    }
   },
   "outputs": [],
   "source": [
    "query = queryDf \\\n",
    "    .writeStream \\\n",
    "    .outputMode(\"update\") \\\n",
    "    .option(\"truncate\", \"true\")\\\n",
    "    .foreachBatch(postgres_sink)\\\n",
    "    .trigger(processingTime = TIME_TRIGGER)\\\n",
    "    .start()\n",
    "\n",
    "\n",
    "query.awaitTermination()\n",
    "\n",
    "    #.outputMode(\"update\") \\\n",
    "    #.format(\"console\") \\"
   ]
  },
  {
   "cell_type": "code",
   "execution_count": null,
   "id": "6e849ea5-6228-4d50-9e21-1689ae422eec",
   "metadata": {
    "pycharm": {
     "name": "#%%\n"
    }
   },
   "outputs": [],
   "source": []
  }
 ],
 "metadata": {
  "kernelspec": {
   "display_name": "Python 3 (ipykernel)",
   "language": "python",
   "name": "python3"
  },
  "language_info": {
   "codemirror_mode": {
    "name": "ipython",
    "version": 3
   },
   "file_extension": ".py",
   "mimetype": "text/x-python",
   "name": "python",
   "nbconvert_exporter": "python",
   "pygments_lexer": "ipython3",
   "version": "3.10.8"
  }
 },
 "nbformat": 4,
 "nbformat_minor": 5
}